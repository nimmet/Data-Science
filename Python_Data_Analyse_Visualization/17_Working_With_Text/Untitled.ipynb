{
 "cells": [
  {
   "cell_type": "code",
   "execution_count": 1,
   "id": "1a3c6f65",
   "metadata": {},
   "outputs": [],
   "source": [
    "import pandas as pd\n",
    "import matplotlib.pyplot as plt\n",
    "house = pd.read_csv(\"C:/Data_Science/Python_Data_Analyse_Visualization/data/kc_house_data.csv\")\n",
    "titanic = pd.read_csv(\"C:/Data_Science/Python_Data_Analyse_Visualization/data/titanic.csv\")\n",
    "netflix  = pd.read_csv(\"C:/Data_Science/Python_Data_Analyse_Visualization/data/netflix_titles.csv\",sep=\"|\", index_col=0)\n",
    "btc = pd.read_csv(\"C:/Data_Science/Python_Data_Analyse_Visualization/data/coin_Bitcoin.csv\")\n",
    "countries = pd.read_csv(\"C:/Data_Science/Python_Data_Analyse_Visualization/data/world-happiness-report-2021.csv\", index_col=0)\n",
    "car = pd.read_csv(\"C:/Data_Science/Python_Data_Analyse_Visualization/data/car_stocks.csv\")\n",
    "pops = pd.read_csv(\"C:/Data_Science/Python_Data_Analyse_Visualization/data/state_pops.csv\")"
   ]
  },
  {
   "cell_type": "code",
   "execution_count": 3,
   "id": "2e25811f",
   "metadata": {},
   "outputs": [
    {
     "data": {
      "text/plain": [
       "'Allen, Miss. Elisabeth Walton'"
      ]
     },
     "execution_count": 3,
     "metadata": {},
     "output_type": "execute_result"
    }
   ],
   "source": [
    "titanic.name[0]"
   ]
  },
  {
   "cell_type": "code",
   "execution_count": 6,
   "id": "c47272aa",
   "metadata": {},
   "outputs": [
    {
     "data": {
      "text/plain": [
       "0                         allen, miss. elisabeth walton\n",
       "1                        allison, master. hudson trevor\n",
       "2                          allison, miss. helen loraine\n",
       "3                  allison, mr. hudson joshua creighton\n",
       "4       allison, mrs. hudson j c (bessie waldo daniels)\n",
       "                             ...                       \n",
       "1304                               zabour, miss. hileni\n",
       "1305                              zabour, miss. thamine\n",
       "1306                          zakarian, mr. mapriededer\n",
       "1307                                zakarian, mr. ortin\n",
       "1308                                 zimmerman, mr. leo\n",
       "Name: name, Length: 1309, dtype: object"
      ]
     },
     "execution_count": 6,
     "metadata": {},
     "output_type": "execute_result"
    }
   ],
   "source": [
    "titanic.name.str.lower()"
   ]
  },
  {
   "cell_type": "code",
   "execution_count": 7,
   "id": "c8c5b73b",
   "metadata": {},
   "outputs": [
    {
     "data": {
      "text/plain": [
       "0                         Allen, miss. elisabeth walton\n",
       "1                        Allison, master. hudson trevor\n",
       "2                          Allison, miss. helen loraine\n",
       "3                  Allison, mr. hudson joshua creighton\n",
       "4       Allison, mrs. hudson j c (bessie waldo daniels)\n",
       "                             ...                       \n",
       "1304                               Zabour, miss. hileni\n",
       "1305                              Zabour, miss. thamine\n",
       "1306                          Zakarian, mr. mapriededer\n",
       "1307                                Zakarian, mr. ortin\n",
       "1308                                 Zimmerman, mr. leo\n",
       "Name: name, Length: 1309, dtype: object"
      ]
     },
     "execution_count": 7,
     "metadata": {},
     "output_type": "execute_result"
    }
   ],
   "source": [
    "titanic.name.str.capitalize()"
   ]
  },
  {
   "cell_type": "code",
   "execution_count": 11,
   "id": "286a2fe6",
   "metadata": {},
   "outputs": [
    {
     "data": {
      "text/plain": [
       "0       B5\n",
       "1       C2\n",
       "2       C2\n",
       "3       C2\n",
       "4       C2\n",
       "        ..\n",
       "1304     ?\n",
       "1305     ?\n",
       "1306     ?\n",
       "1307     ?\n",
       "1308     ?\n",
       "Name: cabin, Length: 1309, dtype: object"
      ]
     },
     "execution_count": 11,
     "metadata": {},
     "output_type": "execute_result"
    }
   ],
   "source": [
    "titanic.cabin.str[0:2]"
   ]
  },
  {
   "cell_type": "code",
   "execution_count": 41,
   "id": "3dfa5d08",
   "metadata": {},
   "outputs": [
    {
     "data": {
      "text/plain": [
       "cabin\n",
       "?      0.302761\n",
       "A10    0.000000\n",
       "A11    1.000000\n",
       "A14    0.000000\n",
       "A16    1.000000\n",
       "         ...   \n",
       "F33    1.000000\n",
       "F38    0.000000\n",
       "F4     1.000000\n",
       "G6     0.600000\n",
       "T      0.000000\n",
       "Name: survived, Length: 187, dtype: float64"
      ]
     },
     "execution_count": 41,
     "metadata": {},
     "output_type": "execute_result"
    }
   ],
   "source": [
    "titanic.groupby(\"cabin\")[\"survived\"].mean()"
   ]
  },
  {
   "cell_type": "code",
   "execution_count": 14,
   "id": "d9fa4f72",
   "metadata": {},
   "outputs": [
    {
     "data": {
      "text/plain": [
       "Index(['pclass', 'survived', 'name', 'sex', 'age', 'sibsp', 'parch', 'ticket',\n",
       "       'fare', 'cabin', 'embarked', 'boat', 'body', 'home.dest'],\n",
       "      dtype='object')"
      ]
     },
     "execution_count": 14,
     "metadata": {},
     "output_type": "execute_result"
    }
   ],
   "source": [
    "titanic.columns"
   ]
  },
  {
   "cell_type": "code",
   "execution_count": null,
   "id": "98235e6d",
   "metadata": {},
   "outputs": [],
   "source": []
  }
 ],
 "metadata": {
  "kernelspec": {
   "display_name": "Python 3 (ipykernel)",
   "language": "python",
   "name": "python3"
  },
  "language_info": {
   "codemirror_mode": {
    "name": "ipython",
    "version": 3
   },
   "file_extension": ".py",
   "mimetype": "text/x-python",
   "name": "python",
   "nbconvert_exporter": "python",
   "pygments_lexer": "ipython3",
   "version": "3.8.11"
  }
 },
 "nbformat": 4,
 "nbformat_minor": 5
}
