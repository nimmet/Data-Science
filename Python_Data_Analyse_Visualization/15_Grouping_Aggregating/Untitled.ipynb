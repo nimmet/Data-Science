{
 "cells": [
  {
   "cell_type": "code",
   "execution_count": 2,
   "id": "76734f70",
   "metadata": {},
   "outputs": [],
   "source": [
    "import pandas as pd\n",
    "import matplotlib.pyplot as plt\n",
    "house = pd.read_csv(\"C:/Data_Science/Python_Data_Analyse_Visualization/data/kc_house_data.csv\")\n",
    "titanic = pd.read_csv(\"C:/Data_Science/Python_Data_Analyse_Visualization/data/titanic.csv\")\n",
    "netflix  = pd.read_csv(\"C:/Data_Science/Python_Data_Analyse_Visualization/data/netflix_titles.csv\",sep=\"|\", index_col=0)\n",
    "btc = pd.read_csv(\"C:/Data_Science/Python_Data_Analyse_Visualization/data/coin_Bitcoin.csv\")\n",
    "countries = pd.read_csv(\"C:/Data_Science/Python_Data_Analyse_Visualization/data/world-happiness-report-2021.csv\", index_col=0)\n",
    "car = pd.read_csv(\"C:/Data_Science/Python_Data_Analyse_Visualization/data/car_stocks.csv\")"
   ]
  },
  {
   "cell_type": "code",
   "execution_count": 3,
   "id": "59da47ec",
   "metadata": {},
   "outputs": [
    {
     "data": {
      "text/html": [
       "<div>\n",
       "<style scoped>\n",
       "    .dataframe tbody tr th:only-of-type {\n",
       "        vertical-align: middle;\n",
       "    }\n",
       "\n",
       "    .dataframe tbody tr th {\n",
       "        vertical-align: top;\n",
       "    }\n",
       "\n",
       "    .dataframe thead th {\n",
       "        text-align: right;\n",
       "    }\n",
       "</style>\n",
       "<table border=\"1\" class=\"dataframe\">\n",
       "  <thead>\n",
       "    <tr style=\"text-align: right;\">\n",
       "      <th></th>\n",
       "      <th>Symbol</th>\n",
       "      <th>Date</th>\n",
       "      <th>Open</th>\n",
       "      <th>High</th>\n",
       "      <th>Low</th>\n",
       "      <th>Close</th>\n",
       "      <th>Adj Close</th>\n",
       "      <th>Volume</th>\n",
       "    </tr>\n",
       "  </thead>\n",
       "  <tbody>\n",
       "    <tr>\n",
       "      <th>0</th>\n",
       "      <td>RIVN</td>\n",
       "      <td>2021-11-10</td>\n",
       "      <td>106.750000</td>\n",
       "      <td>119.459999</td>\n",
       "      <td>95.199997</td>\n",
       "      <td>100.730003</td>\n",
       "      <td>100.730003</td>\n",
       "      <td>103679500</td>\n",
       "    </tr>\n",
       "    <tr>\n",
       "      <th>1</th>\n",
       "      <td>RIVN</td>\n",
       "      <td>2021-11-11</td>\n",
       "      <td>114.625000</td>\n",
       "      <td>125.000000</td>\n",
       "      <td>108.010002</td>\n",
       "      <td>122.989998</td>\n",
       "      <td>122.989998</td>\n",
       "      <td>83668200</td>\n",
       "    </tr>\n",
       "    <tr>\n",
       "      <th>2</th>\n",
       "      <td>RIVN</td>\n",
       "      <td>2021-11-12</td>\n",
       "      <td>128.645004</td>\n",
       "      <td>135.199997</td>\n",
       "      <td>125.250000</td>\n",
       "      <td>129.949997</td>\n",
       "      <td>129.949997</td>\n",
       "      <td>50437500</td>\n",
       "    </tr>\n",
       "    <tr>\n",
       "      <th>3</th>\n",
       "      <td>RIVN</td>\n",
       "      <td>2021-11-15</td>\n",
       "      <td>130.800003</td>\n",
       "      <td>152.529999</td>\n",
       "      <td>127.510002</td>\n",
       "      <td>149.360001</td>\n",
       "      <td>149.360001</td>\n",
       "      <td>64982300</td>\n",
       "    </tr>\n",
       "    <tr>\n",
       "      <th>4</th>\n",
       "      <td>RIVN</td>\n",
       "      <td>2021-11-16</td>\n",
       "      <td>163.800003</td>\n",
       "      <td>179.470001</td>\n",
       "      <td>153.779999</td>\n",
       "      <td>172.009995</td>\n",
       "      <td>172.009995</td>\n",
       "      <td>94036600</td>\n",
       "    </tr>\n",
       "  </tbody>\n",
       "</table>\n",
       "</div>"
      ],
      "text/plain": [
       "  Symbol        Date        Open        High         Low       Close  \\\n",
       "0   RIVN  2021-11-10  106.750000  119.459999   95.199997  100.730003   \n",
       "1   RIVN  2021-11-11  114.625000  125.000000  108.010002  122.989998   \n",
       "2   RIVN  2021-11-12  128.645004  135.199997  125.250000  129.949997   \n",
       "3   RIVN  2021-11-15  130.800003  152.529999  127.510002  149.360001   \n",
       "4   RIVN  2021-11-16  163.800003  179.470001  153.779999  172.009995   \n",
       "\n",
       "    Adj Close     Volume  \n",
       "0  100.730003  103679500  \n",
       "1  122.989998   83668200  \n",
       "2  129.949997   50437500  \n",
       "3  149.360001   64982300  \n",
       "4  172.009995   94036600  "
      ]
     },
     "execution_count": 3,
     "metadata": {},
     "output_type": "execute_result"
    }
   ],
   "source": [
    "car.head()"
   ]
  },
  {
   "cell_type": "code",
   "execution_count": 4,
   "id": "e472ab83",
   "metadata": {},
   "outputs": [
    {
     "name": "stdout",
     "output_type": "stream",
     "text": [
      "<class 'pandas.core.frame.DataFrame'>\n",
      "RangeIndex: 39 entries, 0 to 38\n",
      "Data columns (total 8 columns):\n",
      " #   Column     Non-Null Count  Dtype  \n",
      "---  ------     --------------  -----  \n",
      " 0   Symbol     39 non-null     object \n",
      " 1   Date       39 non-null     object \n",
      " 2   Open       39 non-null     float64\n",
      " 3   High       39 non-null     float64\n",
      " 4   Low        39 non-null     float64\n",
      " 5   Close      39 non-null     float64\n",
      " 6   Adj Close  39 non-null     float64\n",
      " 7   Volume     39 non-null     int64  \n",
      "dtypes: float64(5), int64(1), object(2)\n",
      "memory usage: 2.6+ KB\n"
     ]
    }
   ],
   "source": [
    "car.info()"
   ]
  },
  {
   "cell_type": "code",
   "execution_count": 6,
   "id": "c6da477d",
   "metadata": {},
   "outputs": [
    {
     "data": {
      "text/plain": [
       "79.83897420512822"
      ]
     },
     "execution_count": 6,
     "metadata": {},
     "output_type": "execute_result"
    }
   ],
   "source": [
    "car.Close.mean()"
   ]
  },
  {
   "cell_type": "code",
   "execution_count": 7,
   "id": "d6a00a35",
   "metadata": {},
   "outputs": [
    {
     "data": {
      "text/plain": [
       "127.52307653846154"
      ]
     },
     "execution_count": 7,
     "metadata": {},
     "output_type": "execute_result"
    }
   ],
   "source": [
    "car[car.Symbol == \"RIVN\"][\"Close\"].mean()"
   ]
  },
  {
   "cell_type": "code",
   "execution_count": 20,
   "id": "c89cda19",
   "metadata": {},
   "outputs": [
    {
     "data": {
      "text/plain": [
       "Symbol\n",
       "GM       62.164615\n",
       "LCID     49.829231\n",
       "RIVN    127.523077\n",
       "Name: Close, dtype: float64"
      ]
     },
     "execution_count": 20,
     "metadata": {},
     "output_type": "execute_result"
    }
   ],
   "source": [
    "car.groupby(\"Symbol\")[\"Close\"].mean()"
   ]
  },
  {
   "cell_type": "code",
   "execution_count": 22,
   "id": "c7bb9239",
   "metadata": {},
   "outputs": [
    {
     "data": {
      "text/plain": [
       "RIVN    13\n",
       "LCID    13\n",
       "GM      13\n",
       "Name: Symbol, dtype: int64"
      ]
     },
     "execution_count": 22,
     "metadata": {},
     "output_type": "execute_result"
    }
   ],
   "source": [
    "car.Symbol.value_counts()"
   ]
  },
  {
   "cell_type": "code",
   "execution_count": 16,
   "id": "56adec44",
   "metadata": {},
   "outputs": [
    {
     "data": {
      "text/plain": [
       "2021-11-10    3\n",
       "2021-11-11    3\n",
       "2021-11-12    3\n",
       "2021-11-15    3\n",
       "2021-11-16    3\n",
       "2021-11-17    3\n",
       "2021-11-18    3\n",
       "2021-11-19    3\n",
       "2021-11-22    3\n",
       "2021-11-23    3\n",
       "2021-11-24    3\n",
       "2021-11-26    3\n",
       "2021-11-29    3\n",
       "Name: Date, dtype: int64"
      ]
     },
     "execution_count": 16,
     "metadata": {},
     "output_type": "execute_result"
    }
   ],
   "source": [
    "car.Date.value_counts()"
   ]
  },
  {
   "cell_type": "code",
   "execution_count": 17,
   "id": "6d68b89c",
   "metadata": {},
   "outputs": [
    {
     "data": {
      "text/plain": [
       "Date\n",
       "2021-11-10    66.916668\n",
       "2021-11-11    76.596666\n",
       "2021-11-12    79.093333\n",
       "2021-11-15    85.736668\n",
       "2021-11-16    96.713332\n",
       "2021-11-17    87.743336\n",
       "2021-11-18    77.586666\n",
       "2021-11-19    81.870001\n",
       "2021-11-22    77.763333\n",
       "2021-11-23    78.446665\n",
       "2021-11-24    76.536666\n",
       "2021-11-26    74.673332\n",
       "2021-11-29    78.230000\n",
       "Name: Close, dtype: float64"
      ]
     },
     "execution_count": 17,
     "metadata": {},
     "output_type": "execute_result"
    }
   ],
   "source": [
    "car.groupby(\"Date\")[\"Close\"].mean()"
   ]
  },
  {
   "cell_type": "code",
   "execution_count": 23,
   "id": "900e6128",
   "metadata": {},
   "outputs": [
    {
     "data": {
      "text/plain": [
       "Date        Symbol\n",
       "2021-11-10  GM         59.270000\n",
       "            LCID       40.750000\n",
       "            RIVN      100.730003\n",
       "2021-11-11  GM         61.820000\n",
       "            LCID       44.980000\n",
       "            RIVN      122.989998\n",
       "2021-11-12  GM         63.400002\n",
       "            LCID       43.930000\n",
       "            RIVN      129.949997\n",
       "2021-11-15  GM         62.970001\n",
       "            LCID       44.880001\n",
       "            RIVN      149.360001\n",
       "2021-11-16  GM         62.610001\n",
       "            LCID       55.520000\n",
       "            RIVN      172.009995\n",
       "2021-11-17  GM         64.610001\n",
       "            LCID       52.549999\n",
       "            RIVN      146.070007\n",
       "2021-11-18  GM         62.330002\n",
       "            LCID       47.049999\n",
       "            RIVN      123.379997\n",
       "2021-11-19  GM         61.799999\n",
       "            LCID       55.209999\n",
       "            RIVN      128.600006\n",
       "2021-11-22  GM         64.059998\n",
       "            LCID       51.119999\n",
       "            RIVN      118.110001\n",
       "2021-11-23  GM         63.049999\n",
       "            LCID       52.439999\n",
       "            RIVN      119.849998\n",
       "2021-11-24  GM         62.189999\n",
       "            LCID       52.570000\n",
       "            RIVN      114.849998\n",
       "2021-11-26  GM         60.169998\n",
       "            LCID       51.720001\n",
       "            RIVN      112.129997\n",
       "2021-11-29  GM         59.860001\n",
       "            LCID       55.060001\n",
       "            RIVN      119.769997\n",
       "Name: Close, dtype: float64"
      ]
     },
     "execution_count": 23,
     "metadata": {},
     "output_type": "execute_result"
    }
   ],
   "source": [
    "car.groupby([\"Date\",\"Symbol\"])[\"Close\"].mean()"
   ]
  },
  {
   "cell_type": "code",
   "execution_count": 27,
   "id": "6a4bdc6c",
   "metadata": {},
   "outputs": [
    {
     "data": {
      "text/plain": [
       "<AxesSubplot:ylabel='survived'>"
      ]
     },
     "execution_count": 27,
     "metadata": {},
     "output_type": "execute_result"
    },
    {
     "data": {
      "image/png": "[encoded data removed]",
      "text/plain": [
       "<Figure size 432x288 with 1 Axes>"
      ]
     },
     "metadata": {},
     "output_type": "display_data"
    }
   ],
   "source": [
    "titanic.groupby(\"sex\")[\"survived\"].count().plot(kind=\"pie\")"
   ]
  },
  {
   "cell_type": "code",
   "execution_count": 30,
   "id": "80115e20",
   "metadata": {},
   "outputs": [
    {
     "data": {
      "text/plain": [
       "2"
      ]
     },
     "execution_count": 30,
     "metadata": {},
     "output_type": "execute_result"
    }
   ],
   "source": [
    "titanic.groupby(\"sex\").ngroups"
   ]
  },
  {
   "cell_type": "code",
   "execution_count": 31,
   "id": "f815a6f9",
   "metadata": {},
   "outputs": [
    {
     "data": {
      "text/plain": [
       "{'female': [0, 2, 4, 6, 8, 11, 12, 13, 17, 18, 21, 23, 24, 27, 28, 32, 33, 35, 36, 41, 42, 43, 44, 48, 50, 55, 57, 59, 61, 63, 65, 66, 67, 69, 72, 73, 76, 78, 79, 82, 83, 85, 88, 90, 92, 95, 97, 98, 99, 102, 103, 104, 105, 107, 108, 111, 112, 113, 116, 117, 121, 122, 124, 127, 129, 130, 131, 134, 137, 139, 141, 144, 146, 149, 153, 155, 159, 160, 161, 163, 167, 168, 169, 176, 178, 180, 181, 182, 186, 187, 188, 190, 192, 193, 195, 198, 199, 204, 207, 208, ...], 'male': [1, 3, 5, 7, 9, 10, 14, 15, 16, 19, 20, 22, 25, 26, 29, 30, 31, 34, 37, 38, 39, 40, 45, 46, 47, 49, 51, 52, 53, 54, 56, 58, 60, 62, 64, 68, 70, 71, 74, 75, 77, 80, 81, 84, 86, 87, 89, 91, 93, 94, 96, 100, 101, 106, 109, 110, 114, 115, 118, 119, 120, 123, 125, 126, 128, 132, 133, 135, 136, 138, 140, 142, 143, 145, 147, 148, 150, 151, 152, 154, 156, 157, 158, 162, 164, 165, 166, 170, 171, 172, 173, 174, 175, 177, 179, 183, 184, 185, 189, 191, ...]}"
      ]
     },
     "execution_count": 31,
     "metadata": {},
     "output_type": "execute_result"
    }
   ],
   "source": [
    "titanic.groupby(\"sex\").groups"
   ]
  },
  {
   "cell_type": "code",
   "execution_count": 32,
   "id": "7960ed69",
   "metadata": {},
   "outputs": [
    {
     "data": {
      "text/plain": [
       "99"
      ]
     },
     "execution_count": 32,
     "metadata": {},
     "output_type": "execute_result"
    }
   ],
   "source": [
    "titanic.groupby(\"age\").ngroups"
   ]
  },
  {
   "cell_type": "code",
   "execution_count": 33,
   "id": "be08cd82",
   "metadata": {},
   "outputs": [
    {
     "data": {
      "text/plain": [
       "2"
      ]
     },
     "execution_count": 33,
     "metadata": {},
     "output_type": "execute_result"
    }
   ],
   "source": [
    "titanic.groupby(\"sex\").ngroups"
   ]
  },
  {
   "cell_type": "code",
   "execution_count": 35,
   "id": "7f7ce4fe",
   "metadata": {},
   "outputs": [
    {
     "data": {
      "text/plain": [
       "3"
      ]
     },
     "execution_count": 35,
     "metadata": {},
     "output_type": "execute_result"
    }
   ],
   "source": [
    "titanic.groupby(\"pclass\").ngroups"
   ]
  },
  {
   "cell_type": "code",
   "execution_count": 36,
   "id": "5d438c8f",
   "metadata": {},
   "outputs": [
    {
     "data": {
      "text/html": [
       "<div>\n",
       "<style scoped>\n",
       "    .dataframe tbody tr th:only-of-type {\n",
       "        vertical-align: middle;\n",
       "    }\n",
       "\n",
       "    .dataframe tbody tr th {\n",
       "        vertical-align: top;\n",
       "    }\n",
       "\n",
       "    .dataframe thead th {\n",
       "        text-align: right;\n",
       "    }\n",
       "</style>\n",
       "<table border=\"1\" class=\"dataframe\">\n",
       "  <thead>\n",
       "    <tr style=\"text-align: right;\">\n",
       "      <th></th>\n",
       "      <th>survived</th>\n",
       "      <th>name</th>\n",
       "      <th>sex</th>\n",
       "      <th>age</th>\n",
       "      <th>sibsp</th>\n",
       "      <th>parch</th>\n",
       "      <th>ticket</th>\n",
       "      <th>fare</th>\n",
       "      <th>cabin</th>\n",
       "      <th>embarked</th>\n",
       "      <th>boat</th>\n",
       "      <th>body</th>\n",
       "      <th>home.dest</th>\n",
       "    </tr>\n",
       "    <tr>\n",
       "      <th>pclass</th>\n",
       "      <th></th>\n",
       "      <th></th>\n",
       "      <th></th>\n",
       "      <th></th>\n",
       "      <th></th>\n",
       "      <th></th>\n",
       "      <th></th>\n",
       "      <th></th>\n",
       "      <th></th>\n",
       "      <th></th>\n",
       "      <th></th>\n",
       "      <th></th>\n",
       "      <th></th>\n",
       "    </tr>\n",
       "  </thead>\n",
       "  <tbody>\n",
       "    <tr>\n",
       "      <th>1</th>\n",
       "      <td>1</td>\n",
       "      <td>Allen, Miss. Elisabeth Walton</td>\n",
       "      <td>female</td>\n",
       "      <td>29</td>\n",
       "      <td>0</td>\n",
       "      <td>0</td>\n",
       "      <td>24160</td>\n",
       "      <td>211.3375</td>\n",
       "      <td>B5</td>\n",
       "      <td>S</td>\n",
       "      <td>2</td>\n",
       "      <td>?</td>\n",
       "      <td>St Louis, MO</td>\n",
       "    </tr>\n",
       "    <tr>\n",
       "      <th>2</th>\n",
       "      <td>0</td>\n",
       "      <td>Abelson, Mr. Samuel</td>\n",
       "      <td>male</td>\n",
       "      <td>30</td>\n",
       "      <td>1</td>\n",
       "      <td>0</td>\n",
       "      <td>P/PP 3381</td>\n",
       "      <td>24</td>\n",
       "      <td>?</td>\n",
       "      <td>C</td>\n",
       "      <td>?</td>\n",
       "      <td>?</td>\n",
       "      <td>Russia New York, NY</td>\n",
       "    </tr>\n",
       "    <tr>\n",
       "      <th>3</th>\n",
       "      <td>0</td>\n",
       "      <td>Abbing, Mr. Anthony</td>\n",
       "      <td>male</td>\n",
       "      <td>42</td>\n",
       "      <td>0</td>\n",
       "      <td>0</td>\n",
       "      <td>C.A. 5547</td>\n",
       "      <td>7.55</td>\n",
       "      <td>?</td>\n",
       "      <td>S</td>\n",
       "      <td>?</td>\n",
       "      <td>?</td>\n",
       "      <td>?</td>\n",
       "    </tr>\n",
       "  </tbody>\n",
       "</table>\n",
       "</div>"
      ],
      "text/plain": [
       "        survived                           name     sex age  sibsp  parch  \\\n",
       "pclass                                                                      \n",
       "1              1  Allen, Miss. Elisabeth Walton  female  29      0      0   \n",
       "2              0            Abelson, Mr. Samuel    male  30      1      0   \n",
       "3              0            Abbing, Mr. Anthony    male  42      0      0   \n",
       "\n",
       "           ticket      fare cabin embarked boat body            home.dest  \n",
       "pclass                                                                     \n",
       "1           24160  211.3375    B5        S    2    ?         St Louis, MO  \n",
       "2       P/PP 3381        24     ?        C    ?    ?  Russia New York, NY  \n",
       "3       C.A. 5547      7.55     ?        S    ?    ?                    ?  "
      ]
     },
     "execution_count": 36,
     "metadata": {},
     "output_type": "execute_result"
    }
   ],
   "source": [
    "titanic.groupby(\"pclass\").first()"
   ]
  },
  {
   "cell_type": "code",
   "execution_count": 38,
   "id": "ace68d0b",
   "metadata": {},
   "outputs": [
    {
     "data": {
      "text/html": [
       "<div>\n",
       "<style scoped>\n",
       "    .dataframe tbody tr th:only-of-type {\n",
       "        vertical-align: middle;\n",
       "    }\n",
       "\n",
       "    .dataframe tbody tr th {\n",
       "        vertical-align: top;\n",
       "    }\n",
       "\n",
       "    .dataframe thead th {\n",
       "        text-align: right;\n",
       "    }\n",
       "</style>\n",
       "<table border=\"1\" class=\"dataframe\">\n",
       "  <thead>\n",
       "    <tr style=\"text-align: right;\">\n",
       "      <th></th>\n",
       "      <th>pclass</th>\n",
       "      <th>survived</th>\n",
       "      <th>name</th>\n",
       "      <th>sex</th>\n",
       "      <th>age</th>\n",
       "      <th>sibsp</th>\n",
       "      <th>parch</th>\n",
       "      <th>ticket</th>\n",
       "      <th>fare</th>\n",
       "      <th>cabin</th>\n",
       "      <th>embarked</th>\n",
       "      <th>boat</th>\n",
       "      <th>body</th>\n",
       "      <th>home.dest</th>\n",
       "    </tr>\n",
       "  </thead>\n",
       "  <tbody>\n",
       "    <tr>\n",
       "      <th>0</th>\n",
       "      <td>1</td>\n",
       "      <td>1</td>\n",
       "      <td>Allen, Miss. Elisabeth Walton</td>\n",
       "      <td>female</td>\n",
       "      <td>29</td>\n",
       "      <td>0</td>\n",
       "      <td>0</td>\n",
       "      <td>24160</td>\n",
       "      <td>211.3375</td>\n",
       "      <td>B5</td>\n",
       "      <td>S</td>\n",
       "      <td>2</td>\n",
       "      <td>?</td>\n",
       "      <td>St Louis, MO</td>\n",
       "    </tr>\n",
       "    <tr>\n",
       "      <th>2</th>\n",
       "      <td>1</td>\n",
       "      <td>0</td>\n",
       "      <td>Allison, Miss. Helen Loraine</td>\n",
       "      <td>female</td>\n",
       "      <td>2</td>\n",
       "      <td>1</td>\n",
       "      <td>2</td>\n",
       "      <td>113781</td>\n",
       "      <td>151.55</td>\n",
       "      <td>C22 C26</td>\n",
       "      <td>S</td>\n",
       "      <td>?</td>\n",
       "      <td>?</td>\n",
       "      <td>Montreal, PQ / Chesterville, ON</td>\n",
       "    </tr>\n",
       "    <tr>\n",
       "      <th>4</th>\n",
       "      <td>1</td>\n",
       "      <td>0</td>\n",
       "      <td>Allison, Mrs. Hudson J C (Bessie Waldo Daniels)</td>\n",
       "      <td>female</td>\n",
       "      <td>25</td>\n",
       "      <td>1</td>\n",
       "      <td>2</td>\n",
       "      <td>113781</td>\n",
       "      <td>151.55</td>\n",
       "      <td>C22 C26</td>\n",
       "      <td>S</td>\n",
       "      <td>?</td>\n",
       "      <td>?</td>\n",
       "      <td>Montreal, PQ / Chesterville, ON</td>\n",
       "    </tr>\n",
       "    <tr>\n",
       "      <th>6</th>\n",
       "      <td>1</td>\n",
       "      <td>1</td>\n",
       "      <td>Andrews, Miss. Kornelia Theodosia</td>\n",
       "      <td>female</td>\n",
       "      <td>63</td>\n",
       "      <td>1</td>\n",
       "      <td>0</td>\n",
       "      <td>13502</td>\n",
       "      <td>77.9583</td>\n",
       "      <td>D7</td>\n",
       "      <td>S</td>\n",
       "      <td>10</td>\n",
       "      <td>?</td>\n",
       "      <td>Hudson, NY</td>\n",
       "    </tr>\n",
       "    <tr>\n",
       "      <th>8</th>\n",
       "      <td>1</td>\n",
       "      <td>1</td>\n",
       "      <td>Appleton, Mrs. Edward Dale (Charlotte Lamson)</td>\n",
       "      <td>female</td>\n",
       "      <td>53</td>\n",
       "      <td>2</td>\n",
       "      <td>0</td>\n",
       "      <td>11769</td>\n",
       "      <td>51.4792</td>\n",
       "      <td>C101</td>\n",
       "      <td>S</td>\n",
       "      <td>D</td>\n",
       "      <td>?</td>\n",
       "      <td>Bayside, Queens, NY</td>\n",
       "    </tr>\n",
       "    <tr>\n",
       "      <th>...</th>\n",
       "      <td>...</td>\n",
       "      <td>...</td>\n",
       "      <td>...</td>\n",
       "      <td>...</td>\n",
       "      <td>...</td>\n",
       "      <td>...</td>\n",
       "      <td>...</td>\n",
       "      <td>...</td>\n",
       "      <td>...</td>\n",
       "      <td>...</td>\n",
       "      <td>...</td>\n",
       "      <td>...</td>\n",
       "      <td>...</td>\n",
       "      <td>...</td>\n",
       "    </tr>\n",
       "    <tr>\n",
       "      <th>1286</th>\n",
       "      <td>3</td>\n",
       "      <td>1</td>\n",
       "      <td>Whabee, Mrs. George Joseph (Shawneene Abi-Saab)</td>\n",
       "      <td>female</td>\n",
       "      <td>38</td>\n",
       "      <td>0</td>\n",
       "      <td>0</td>\n",
       "      <td>2688</td>\n",
       "      <td>7.2292</td>\n",
       "      <td>?</td>\n",
       "      <td>C</td>\n",
       "      <td>C</td>\n",
       "      <td>?</td>\n",
       "      <td>?</td>\n",
       "    </tr>\n",
       "    <tr>\n",
       "      <th>1290</th>\n",
       "      <td>3</td>\n",
       "      <td>1</td>\n",
       "      <td>Wilkes, Mrs. James (Ellen Needs)</td>\n",
       "      <td>female</td>\n",
       "      <td>47</td>\n",
       "      <td>1</td>\n",
       "      <td>0</td>\n",
       "      <td>363272</td>\n",
       "      <td>7</td>\n",
       "      <td>?</td>\n",
       "      <td>S</td>\n",
       "      <td>?</td>\n",
       "      <td>?</td>\n",
       "      <td>?</td>\n",
       "    </tr>\n",
       "    <tr>\n",
       "      <th>1300</th>\n",
       "      <td>3</td>\n",
       "      <td>1</td>\n",
       "      <td>Yasbeck, Mrs. Antoni (Selini Alexander)</td>\n",
       "      <td>female</td>\n",
       "      <td>15</td>\n",
       "      <td>1</td>\n",
       "      <td>0</td>\n",
       "      <td>2659</td>\n",
       "      <td>14.4542</td>\n",
       "      <td>?</td>\n",
       "      <td>C</td>\n",
       "      <td>?</td>\n",
       "      <td>?</td>\n",
       "      <td>?</td>\n",
       "    </tr>\n",
       "    <tr>\n",
       "      <th>1304</th>\n",
       "      <td>3</td>\n",
       "      <td>0</td>\n",
       "      <td>Zabour, Miss. Hileni</td>\n",
       "      <td>female</td>\n",
       "      <td>14.5</td>\n",
       "      <td>1</td>\n",
       "      <td>0</td>\n",
       "      <td>2665</td>\n",
       "      <td>14.4542</td>\n",
       "      <td>?</td>\n",
       "      <td>C</td>\n",
       "      <td>?</td>\n",
       "      <td>328</td>\n",
       "      <td>?</td>\n",
       "    </tr>\n",
       "    <tr>\n",
       "      <th>1305</th>\n",
       "      <td>3</td>\n",
       "      <td>0</td>\n",
       "      <td>Zabour, Miss. Thamine</td>\n",
       "      <td>female</td>\n",
       "      <td>?</td>\n",
       "      <td>1</td>\n",
       "      <td>0</td>\n",
       "      <td>2665</td>\n",
       "      <td>14.4542</td>\n",
       "      <td>?</td>\n",
       "      <td>C</td>\n",
       "      <td>?</td>\n",
       "      <td>?</td>\n",
       "      <td>?</td>\n",
       "    </tr>\n",
       "  </tbody>\n",
       "</table>\n",
       "<p>466 rows × 14 columns</p>\n",
       "</div>"
      ],
      "text/plain": [
       "      pclass  survived                                             name  \\\n",
       "0          1         1                    Allen, Miss. Elisabeth Walton   \n",
       "2          1         0                     Allison, Miss. Helen Loraine   \n",
       "4          1         0  Allison, Mrs. Hudson J C (Bessie Waldo Daniels)   \n",
       "6          1         1                Andrews, Miss. Kornelia Theodosia   \n",
       "8          1         1    Appleton, Mrs. Edward Dale (Charlotte Lamson)   \n",
       "...      ...       ...                                              ...   \n",
       "1286       3         1  Whabee, Mrs. George Joseph (Shawneene Abi-Saab)   \n",
       "1290       3         1                 Wilkes, Mrs. James (Ellen Needs)   \n",
       "1300       3         1          Yasbeck, Mrs. Antoni (Selini Alexander)   \n",
       "1304       3         0                             Zabour, Miss. Hileni   \n",
       "1305       3         0                            Zabour, Miss. Thamine   \n",
       "\n",
       "         sex   age  sibsp  parch  ticket      fare    cabin embarked boat  \\\n",
       "0     female    29      0      0   24160  211.3375       B5        S    2   \n",
       "2     female     2      1      2  113781    151.55  C22 C26        S    ?   \n",
       "4     female    25      1      2  113781    151.55  C22 C26        S    ?   \n",
       "6     female    63      1      0   13502   77.9583       D7        S   10   \n",
       "8     female    53      2      0   11769   51.4792     C101        S    D   \n",
       "...      ...   ...    ...    ...     ...       ...      ...      ...  ...   \n",
       "1286  female    38      0      0    2688    7.2292        ?        C    C   \n",
       "1290  female    47      1      0  363272         7        ?        S    ?   \n",
       "1300  female    15      1      0    2659   14.4542        ?        C    ?   \n",
       "1304  female  14.5      1      0    2665   14.4542        ?        C    ?   \n",
       "1305  female     ?      1      0    2665   14.4542        ?        C    ?   \n",
       "\n",
       "     body                        home.dest  \n",
       "0       ?                     St Louis, MO  \n",
       "2       ?  Montreal, PQ / Chesterville, ON  \n",
       "4       ?  Montreal, PQ / Chesterville, ON  \n",
       "6       ?                       Hudson, NY  \n",
       "8       ?              Bayside, Queens, NY  \n",
       "...   ...                              ...  \n",
       "1286    ?                                ?  \n",
       "1290    ?                                ?  \n",
       "1300    ?                                ?  \n",
       "1304  328                                ?  \n",
       "1305    ?                                ?  \n",
       "\n",
       "[466 rows x 14 columns]"
      ]
     },
     "execution_count": 38,
     "metadata": {},
     "output_type": "execute_result"
    }
   ],
   "source": [
    "titanic.groupby(\"sex\").get_group(\"female\")"
   ]
  },
  {
   "cell_type": "code",
   "execution_count": 39,
   "id": "3acd6dfd",
   "metadata": {},
   "outputs": [
    {
     "data": {
      "text/plain": [
       "3"
      ]
     },
     "execution_count": 39,
     "metadata": {},
     "output_type": "execute_result"
    }
   ],
   "source": [
    "car.groupby(\"Symbol\").ngroups"
   ]
  },
  {
   "cell_type": "code",
   "execution_count": 40,
   "id": "66ff59ac",
   "metadata": {},
   "outputs": [
    {
     "data": {
      "text/html": [
       "<div>\n",
       "<style scoped>\n",
       "    .dataframe tbody tr th:only-of-type {\n",
       "        vertical-align: middle;\n",
       "    }\n",
       "\n",
       "    .dataframe tbody tr th {\n",
       "        vertical-align: top;\n",
       "    }\n",
       "\n",
       "    .dataframe thead th {\n",
       "        text-align: right;\n",
       "    }\n",
       "</style>\n",
       "<table border=\"1\" class=\"dataframe\">\n",
       "  <thead>\n",
       "    <tr style=\"text-align: right;\">\n",
       "      <th></th>\n",
       "      <th>Date</th>\n",
       "      <th>Open</th>\n",
       "      <th>High</th>\n",
       "      <th>Low</th>\n",
       "      <th>Close</th>\n",
       "      <th>Adj Close</th>\n",
       "      <th>Volume</th>\n",
       "    </tr>\n",
       "    <tr>\n",
       "      <th>Symbol</th>\n",
       "      <th></th>\n",
       "      <th></th>\n",
       "      <th></th>\n",
       "      <th></th>\n",
       "      <th></th>\n",
       "      <th></th>\n",
       "      <th></th>\n",
       "    </tr>\n",
       "  </thead>\n",
       "  <tbody>\n",
       "    <tr>\n",
       "      <th>GM</th>\n",
       "      <td>2021-11-10</td>\n",
       "      <td>57.849998</td>\n",
       "      <td>60.560001</td>\n",
       "      <td>57.730000</td>\n",
       "      <td>59.270000</td>\n",
       "      <td>59.270000</td>\n",
       "      <td>22778600</td>\n",
       "    </tr>\n",
       "    <tr>\n",
       "      <th>LCID</th>\n",
       "      <td>2021-11-10</td>\n",
       "      <td>42.299999</td>\n",
       "      <td>45.000000</td>\n",
       "      <td>39.341000</td>\n",
       "      <td>40.750000</td>\n",
       "      <td>40.750000</td>\n",
       "      <td>79342800</td>\n",
       "    </tr>\n",
       "    <tr>\n",
       "      <th>RIVN</th>\n",
       "      <td>2021-11-10</td>\n",
       "      <td>106.750000</td>\n",
       "      <td>119.459999</td>\n",
       "      <td>95.199997</td>\n",
       "      <td>100.730003</td>\n",
       "      <td>100.730003</td>\n",
       "      <td>103679500</td>\n",
       "    </tr>\n",
       "  </tbody>\n",
       "</table>\n",
       "</div>"
      ],
      "text/plain": [
       "              Date        Open        High        Low       Close   Adj Close  \\\n",
       "Symbol                                                                          \n",
       "GM      2021-11-10   57.849998   60.560001  57.730000   59.270000   59.270000   \n",
       "LCID    2021-11-10   42.299999   45.000000  39.341000   40.750000   40.750000   \n",
       "RIVN    2021-11-10  106.750000  119.459999  95.199997  100.730003  100.730003   \n",
       "\n",
       "           Volume  \n",
       "Symbol             \n",
       "GM       22778600  \n",
       "LCID     79342800  \n",
       "RIVN    103679500  "
      ]
     },
     "execution_count": 40,
     "metadata": {},
     "output_type": "execute_result"
    }
   ],
   "source": [
    "car.groupby(\"Symbol\").first()"
   ]
  },
  {
   "cell_type": "code",
   "execution_count": 44,
   "id": "059511b3",
   "metadata": {},
   "outputs": [
    {
     "data": {
      "text/plain": [
       "26    57.730000\n",
       "27    59.310001\n",
       "28    61.279999\n",
       "29    62.630001\n",
       "30    61.930000\n",
       "31    62.380001\n",
       "32    62.090000\n",
       "33    61.560001\n",
       "34    61.759998\n",
       "35    62.259998\n",
       "36    61.630001\n",
       "37    59.459999\n",
       "38    59.650002\n",
       "Name: Low, dtype: float64"
      ]
     },
     "execution_count": 44,
     "metadata": {},
     "output_type": "execute_result"
    }
   ],
   "source": [
    "car.groupby(\"Symbol\")[\"Low\"].get_group(\"GM\")"
   ]
  },
  {
   "cell_type": "code",
   "execution_count": 49,
   "id": "06c15c07",
   "metadata": {},
   "outputs": [
    {
     "data": {
      "text/plain": [
       "{'GM': [26, 27, 28, 29, 30, 31, 32, 33, 34, 35, 36, 37, 38], 'LCID': [13, 14, 15, 16, 17, 18, 19, 20, 21, 22, 23, 24, 25], 'RIVN': [0, 1, 2, 3, 4, 5, 6, 7, 8, 9, 10, 11, 12]}"
      ]
     },
     "execution_count": 49,
     "metadata": {},
     "output_type": "execute_result"
    }
   ],
   "source": [
    "car.groupby(\"Symbol\").groups"
   ]
  },
  {
   "cell_type": "code",
   "execution_count": 50,
   "id": "4998e179",
   "metadata": {},
   "outputs": [
    {
     "data": {
      "text/plain": [
       "Int64Index([26, 27, 28, 29, 30, 31, 32, 33, 34, 35, 36, 37, 38], dtype='int64')"
      ]
     },
     "execution_count": 50,
     "metadata": {},
     "output_type": "execute_result"
    }
   ],
   "source": [
    "car.groupby(\"Symbol\").groups[\"GM\"]"
   ]
  },
  {
   "cell_type": "code",
   "execution_count": 51,
   "id": "6c48647d",
   "metadata": {},
   "outputs": [
    {
     "data": {
      "text/html": [
       "<div>\n",
       "<style scoped>\n",
       "    .dataframe tbody tr th:only-of-type {\n",
       "        vertical-align: middle;\n",
       "    }\n",
       "\n",
       "    .dataframe tbody tr th {\n",
       "        vertical-align: top;\n",
       "    }\n",
       "\n",
       "    .dataframe thead th {\n",
       "        text-align: right;\n",
       "    }\n",
       "</style>\n",
       "<table border=\"1\" class=\"dataframe\">\n",
       "  <thead>\n",
       "    <tr style=\"text-align: right;\">\n",
       "      <th></th>\n",
       "      <th>Date</th>\n",
       "      <th>Open</th>\n",
       "      <th>High</th>\n",
       "      <th>Low</th>\n",
       "      <th>Close</th>\n",
       "      <th>Adj Close</th>\n",
       "      <th>Volume</th>\n",
       "    </tr>\n",
       "    <tr>\n",
       "      <th>Symbol</th>\n",
       "      <th></th>\n",
       "      <th></th>\n",
       "      <th></th>\n",
       "      <th></th>\n",
       "      <th></th>\n",
       "      <th></th>\n",
       "      <th></th>\n",
       "    </tr>\n",
       "  </thead>\n",
       "  <tbody>\n",
       "    <tr>\n",
       "      <th>GM</th>\n",
       "      <td>2021-11-10</td>\n",
       "      <td>57.849998</td>\n",
       "      <td>60.560001</td>\n",
       "      <td>57.730000</td>\n",
       "      <td>59.270000</td>\n",
       "      <td>59.270000</td>\n",
       "      <td>22778600</td>\n",
       "    </tr>\n",
       "    <tr>\n",
       "      <th>LCID</th>\n",
       "      <td>2021-11-10</td>\n",
       "      <td>42.299999</td>\n",
       "      <td>45.000000</td>\n",
       "      <td>39.341000</td>\n",
       "      <td>40.750000</td>\n",
       "      <td>40.750000</td>\n",
       "      <td>79342800</td>\n",
       "    </tr>\n",
       "    <tr>\n",
       "      <th>RIVN</th>\n",
       "      <td>2021-11-10</td>\n",
       "      <td>106.750000</td>\n",
       "      <td>119.459999</td>\n",
       "      <td>95.199997</td>\n",
       "      <td>100.730003</td>\n",
       "      <td>100.730003</td>\n",
       "      <td>103679500</td>\n",
       "    </tr>\n",
       "  </tbody>\n",
       "</table>\n",
       "</div>"
      ],
      "text/plain": [
       "              Date        Open        High        Low       Close   Adj Close  \\\n",
       "Symbol                                                                          \n",
       "GM      2021-11-10   57.849998   60.560001  57.730000   59.270000   59.270000   \n",
       "LCID    2021-11-10   42.299999   45.000000  39.341000   40.750000   40.750000   \n",
       "RIVN    2021-11-10  106.750000  119.459999  95.199997  100.730003  100.730003   \n",
       "\n",
       "           Volume  \n",
       "Symbol             \n",
       "GM       22778600  \n",
       "LCID     79342800  \n",
       "RIVN    103679500  "
      ]
     },
     "execution_count": 51,
     "metadata": {},
     "output_type": "execute_result"
    }
   ],
   "source": [
    "car.groupby(\"Symbol\").first()"
   ]
  },
  {
   "cell_type": "code",
   "execution_count": 53,
   "id": "50a0b602",
   "metadata": {},
   "outputs": [
    {
     "name": "stdout",
     "output_type": "stream",
     "text": [
      "GM\n",
      "-----------------------------------====================++++++++++++++++++++++++++++++++++++++++++++\n",
      "   Symbol        Date       Open       High        Low      Close  Adj Close  \\\n",
      "26     GM  2021-11-10  57.849998  60.560001  57.730000  59.270000  59.270000   \n",
      "27     GM  2021-11-11  59.820000  62.150002  59.310001  61.820000  61.820000   \n",
      "28     GM  2021-11-12  61.590000  64.029999  61.279999  63.400002  63.400002   \n",
      "29     GM  2021-11-15  63.660000  63.730000  62.630001  62.970001  62.970001   \n",
      "30     GM  2021-11-16  63.240002  63.279999  61.930000  62.610001  62.610001   \n",
      "31     GM  2021-11-17  63.330002  65.070000  62.380001  64.610001  64.610001   \n",
      "32     GM  2021-11-18  64.330002  65.180000  62.090000  62.330002  62.330002   \n",
      "33     GM  2021-11-19  62.480000  62.970001  61.560001  61.799999  61.799999   \n",
      "34     GM  2021-11-22  61.950001  64.959999  61.759998  64.059998  64.059998   \n",
      "35     GM  2021-11-23  63.730000  64.040001  62.259998  63.049999  63.049999   \n",
      "36     GM  2021-11-24  62.299999  62.599998  61.630001  62.189999  62.189999   \n",
      "37     GM  2021-11-26  59.799999  60.570000  59.459999  60.169998  60.169998   \n",
      "38     GM  2021-11-29  61.110001  61.540001  59.650002  59.860001  59.860001   \n",
      "\n",
      "      Volume  \n",
      "26  22778600  \n",
      "27  29033900  \n",
      "28  31142800  \n",
      "29  14372100  \n",
      "30  16115000  \n",
      "31  29983400  \n",
      "32  23308100  \n",
      "33  19508500  \n",
      "34  19836200  \n",
      "35  16225100  \n",
      "36  12685000  \n",
      "37  13272600  \n",
      "38  15022400  \n",
      "LCID\n",
      "-----------------------------------====================++++++++++++++++++++++++++++++++++++++++++++\n",
      "   Symbol        Date       Open       High        Low      Close  Adj Close  \\\n",
      "13   LCID  2021-11-10  42.299999  45.000000  39.341000  40.750000  40.750000   \n",
      "14   LCID  2021-11-11  42.750000  45.750000  41.740002  44.980000  44.980000   \n",
      "15   LCID  2021-11-12  44.000000  45.189999  42.740002  43.930000  43.930000   \n",
      "16   LCID  2021-11-15  44.599998  46.139999  43.410000  44.880001  44.880001   \n",
      "17   LCID  2021-11-16  49.930000  55.680000  46.508999  55.520000  55.520000   \n",
      "18   LCID  2021-11-17  56.200001  57.750000  50.310001  52.549999  52.549999   \n",
      "19   LCID  2021-11-18  49.029999  49.669998  43.000000  47.049999  47.049999   \n",
      "20   LCID  2021-11-19  47.160000  55.400002  47.150002  55.209999  55.209999   \n",
      "21   LCID  2021-11-22  53.035000  57.439999  50.080002  51.119999  51.119999   \n",
      "22   LCID  2021-11-23  51.674999  54.330002  49.520000  52.439999  52.439999   \n",
      "23   LCID  2021-11-24  51.740002  53.500000  49.830002  52.570000  52.570000   \n",
      "24   LCID  2021-11-26  49.450001  52.369999  49.412998  51.720001  51.720001   \n",
      "25   LCID  2021-11-29  52.029999  55.330002  50.709999  55.060001  55.060001   \n",
      "\n",
      "       Volume  \n",
      "13   79342800  \n",
      "14   69846300  \n",
      "15   40899600  \n",
      "16   77111000  \n",
      "17  248654600  \n",
      "18  198386200  \n",
      "19  131634800  \n",
      "20  166276500  \n",
      "21  130761800  \n",
      "22   87998800  \n",
      "23   61225300  \n",
      "24   36708000  \n",
      "25   76581500  \n",
      "RIVN\n",
      "-----------------------------------====================++++++++++++++++++++++++++++++++++++++++++++\n",
      "   Symbol        Date        Open        High         Low       Close  \\\n",
      "0    RIVN  2021-11-10  106.750000  119.459999   95.199997  100.730003   \n",
      "1    RIVN  2021-11-11  114.625000  125.000000  108.010002  122.989998   \n",
      "2    RIVN  2021-11-12  128.645004  135.199997  125.250000  129.949997   \n",
      "3    RIVN  2021-11-15  130.800003  152.529999  127.510002  149.360001   \n",
      "4    RIVN  2021-11-16  163.800003  179.470001  153.779999  172.009995   \n",
      "5    RIVN  2021-11-17  160.880005  163.000000  140.350006  146.070007   \n",
      "6    RIVN  2021-11-18  136.809998  138.779999  120.150002  123.379997   \n",
      "7    RIVN  2021-11-19  129.979996  139.899994  125.599998  128.600006   \n",
      "8    RIVN  2021-11-22  123.879997  124.930000  106.910004  118.110001   \n",
      "9    RIVN  2021-11-23  117.830002  124.000000  113.000000  119.849998   \n",
      "10   RIVN  2021-11-24  119.379997  120.000000  113.449997  114.849998   \n",
      "11   RIVN  2021-11-26  111.000000  114.500000  106.139999  112.129997   \n",
      "12   RIVN  2021-11-29  115.849998  122.250000  113.599998  119.769997   \n",
      "\n",
      "     Adj Close     Volume  \n",
      "0   100.730003  103679500  \n",
      "1   122.989998   83668200  \n",
      "2   129.949997   50437500  \n",
      "3   149.360001   64982300  \n",
      "4   172.009995   94036600  \n",
      "5   146.070007   71765600  \n",
      "6   123.379997   63603600  \n",
      "7   128.600006   49368200  \n",
      "8   118.110001   40993900  \n",
      "9   119.849998   24967900  \n",
      "10  114.849998   11539200  \n",
      "11  112.129997    9871200  \n",
      "12  119.769997   13897700  \n"
     ]
    }
   ],
   "source": [
    "for name, group in  car.groupby(\"Symbol\"):\n",
    "    print(name)\n",
    "    print(\"-----------------------------------====================++++++++++++++++++++++++++++++++++++++++++++\")\n",
    "    print(group)"
   ]
  },
  {
   "cell_type": "code",
   "execution_count": 62,
   "id": "d6d864af",
   "metadata": {},
   "outputs": [
    {
     "data": {
      "text/plain": [
       "{'GM': [26, 27, 28, 29, 30, 31, 32, 33, 34, 35, 36, 37, 38], 'LCID': [13, 14, 15, 16, 17, 18, 19, 20, 21, 22, 23, 24, 25], 'RIVN': [0, 1, 2, 3, 4, 5, 6, 7, 8, 9, 10, 11, 12]}"
      ]
     },
     "execution_count": 62,
     "metadata": {},
     "output_type": "execute_result"
    }
   ],
   "source": [
    "car.groupby(\"Symbol\").groups"
   ]
  },
  {
   "cell_type": "code",
   "execution_count": 66,
   "id": "991759b4",
   "metadata": {},
   "outputs": [
    {
     "data": {
      "text/html": [
       "<div>\n",
       "<style scoped>\n",
       "    .dataframe tbody tr th:only-of-type {\n",
       "        vertical-align: middle;\n",
       "    }\n",
       "\n",
       "    .dataframe tbody tr th {\n",
       "        vertical-align: top;\n",
       "    }\n",
       "\n",
       "    .dataframe thead th {\n",
       "        text-align: right;\n",
       "    }\n",
       "</style>\n",
       "<table border=\"1\" class=\"dataframe\">\n",
       "  <thead>\n",
       "    <tr style=\"text-align: right;\">\n",
       "      <th></th>\n",
       "      <th>Close</th>\n",
       "      <th>High</th>\n",
       "    </tr>\n",
       "    <tr>\n",
       "      <th>Symbol</th>\n",
       "      <th></th>\n",
       "      <th></th>\n",
       "    </tr>\n",
       "  </thead>\n",
       "  <tbody>\n",
       "    <tr>\n",
       "      <th>GM</th>\n",
       "      <td>62.164615</td>\n",
       "      <td>63.129231</td>\n",
       "    </tr>\n",
       "    <tr>\n",
       "      <th>LCID</th>\n",
       "      <td>49.829231</td>\n",
       "      <td>51.811538</td>\n",
       "    </tr>\n",
       "    <tr>\n",
       "      <th>RIVN</th>\n",
       "      <td>127.523077</td>\n",
       "      <td>135.309230</td>\n",
       "    </tr>\n",
       "  </tbody>\n",
       "</table>\n",
       "</div>"
      ],
      "text/plain": [
       "             Close        High\n",
       "Symbol                        \n",
       "GM       62.164615   63.129231\n",
       "LCID     49.829231   51.811538\n",
       "RIVN    127.523077  135.309230"
      ]
     },
     "execution_count": 66,
     "metadata": {},
     "output_type": "execute_result"
    }
   ],
   "source": [
    "car.groupby(\"Symbol\")[[\"Close\",\"High\"]].mean()"
   ]
  },
  {
   "cell_type": "code",
   "execution_count": 69,
   "id": "b9db48cb",
   "metadata": {},
   "outputs": [
    {
     "data": {
      "text/plain": [
       "<AxesSubplot:xlabel='sex'>"
      ]
     },
     "execution_count": 69,
     "metadata": {},
     "output_type": "execute_result"
    },
    {
     "data": {
      "image/png": "[encoded data removed]",
      "text/plain": [
       "<Figure size 432x288 with 1 Axes>"
      ]
     },
     "metadata": {
      "needs_background": "light"
     },
     "output_type": "display_data"
    }
   ],
   "source": [
    "titanic.groupby(\"sex\")[[\"pclass\",\"survived\",\"embarked\"]].count().plot(kind=\"bar\")"
   ]
  },
  {
   "cell_type": "code",
   "execution_count": 71,
   "id": "e98e0aef",
   "metadata": {},
   "outputs": [
    {
     "data": {
      "text/html": [
       "<div>\n",
       "<style scoped>\n",
       "    .dataframe tbody tr th:only-of-type {\n",
       "        vertical-align: middle;\n",
       "    }\n",
       "\n",
       "    .dataframe tbody tr th {\n",
       "        vertical-align: top;\n",
       "    }\n",
       "\n",
       "    .dataframe thead tr th {\n",
       "        text-align: left;\n",
       "    }\n",
       "\n",
       "    .dataframe thead tr:last-of-type th {\n",
       "        text-align: right;\n",
       "    }\n",
       "</style>\n",
       "<table border=\"1\" class=\"dataframe\">\n",
       "  <thead>\n",
       "    <tr>\n",
       "      <th></th>\n",
       "      <th colspan=\"4\" halign=\"left\">pclass</th>\n",
       "      <th colspan=\"4\" halign=\"left\">survived</th>\n",
       "    </tr>\n",
       "    <tr>\n",
       "      <th></th>\n",
       "      <th>min</th>\n",
       "      <th>max</th>\n",
       "      <th>mean</th>\n",
       "      <th>count</th>\n",
       "      <th>min</th>\n",
       "      <th>max</th>\n",
       "      <th>mean</th>\n",
       "      <th>count</th>\n",
       "    </tr>\n",
       "    <tr>\n",
       "      <th>sex</th>\n",
       "      <th></th>\n",
       "      <th></th>\n",
       "      <th></th>\n",
       "      <th></th>\n",
       "      <th></th>\n",
       "      <th></th>\n",
       "      <th></th>\n",
       "      <th></th>\n",
       "    </tr>\n",
       "  </thead>\n",
       "  <tbody>\n",
       "    <tr>\n",
       "      <th>female</th>\n",
       "      <td>1</td>\n",
       "      <td>3</td>\n",
       "      <td>2.154506</td>\n",
       "      <td>466</td>\n",
       "      <td>0</td>\n",
       "      <td>1</td>\n",
       "      <td>0.727468</td>\n",
       "      <td>466</td>\n",
       "    </tr>\n",
       "    <tr>\n",
       "      <th>male</th>\n",
       "      <td>1</td>\n",
       "      <td>3</td>\n",
       "      <td>2.372479</td>\n",
       "      <td>843</td>\n",
       "      <td>0</td>\n",
       "      <td>1</td>\n",
       "      <td>0.190985</td>\n",
       "      <td>843</td>\n",
       "    </tr>\n",
       "  </tbody>\n",
       "</table>\n",
       "</div>"
      ],
      "text/plain": [
       "       pclass                     survived                    \n",
       "          min max      mean count      min max      mean count\n",
       "sex                                                           \n",
       "female      1   3  2.154506   466        0   1  0.727468   466\n",
       "male        1   3  2.372479   843        0   1  0.190985   843"
      ]
     },
     "execution_count": 71,
     "metadata": {},
     "output_type": "execute_result"
    }
   ],
   "source": [
    "titanic.groupby(\"sex\")[[\"pclass\",\"survived\",\"age\",\"embarked\"]].agg([\"min\",\"max\",\"mean\",\"count\"])"
   ]
  },
  {
   "cell_type": "code",
   "execution_count": 75,
   "id": "5d0f5b49",
   "metadata": {},
   "outputs": [
    {
     "data": {
      "text/html": [
       "<div>\n",
       "<style scoped>\n",
       "    .dataframe tbody tr th:only-of-type {\n",
       "        vertical-align: middle;\n",
       "    }\n",
       "\n",
       "    .dataframe tbody tr th {\n",
       "        vertical-align: top;\n",
       "    }\n",
       "\n",
       "    .dataframe thead tr th {\n",
       "        text-align: left;\n",
       "    }\n",
       "\n",
       "    .dataframe thead tr:last-of-type th {\n",
       "        text-align: right;\n",
       "    }\n",
       "</style>\n",
       "<table border=\"1\" class=\"dataframe\">\n",
       "  <thead>\n",
       "    <tr>\n",
       "      <th></th>\n",
       "      <th colspan=\"3\" halign=\"left\">pclass</th>\n",
       "      <th colspan=\"3\" halign=\"left\">survived</th>\n",
       "      <th>age</th>\n",
       "      <th>embarked</th>\n",
       "    </tr>\n",
       "    <tr>\n",
       "      <th></th>\n",
       "      <th>min</th>\n",
       "      <th>max</th>\n",
       "      <th>sum</th>\n",
       "      <th>min</th>\n",
       "      <th>max</th>\n",
       "      <th>sum</th>\n",
       "      <th>count</th>\n",
       "      <th>count</th>\n",
       "    </tr>\n",
       "    <tr>\n",
       "      <th>sex</th>\n",
       "      <th></th>\n",
       "      <th></th>\n",
       "      <th></th>\n",
       "      <th></th>\n",
       "      <th></th>\n",
       "      <th></th>\n",
       "      <th></th>\n",
       "      <th></th>\n",
       "    </tr>\n",
       "  </thead>\n",
       "  <tbody>\n",
       "    <tr>\n",
       "      <th>female</th>\n",
       "      <td>1</td>\n",
       "      <td>3</td>\n",
       "      <td>1004</td>\n",
       "      <td>0</td>\n",
       "      <td>1</td>\n",
       "      <td>339</td>\n",
       "      <td>466</td>\n",
       "      <td>466</td>\n",
       "    </tr>\n",
       "    <tr>\n",
       "      <th>male</th>\n",
       "      <td>1</td>\n",
       "      <td>3</td>\n",
       "      <td>2000</td>\n",
       "      <td>0</td>\n",
       "      <td>1</td>\n",
       "      <td>161</td>\n",
       "      <td>843</td>\n",
       "      <td>843</td>\n",
       "    </tr>\n",
       "  </tbody>\n",
       "</table>\n",
       "</div>"
      ],
      "text/plain": [
       "       pclass           survived            age embarked\n",
       "          min max   sum      min max  sum count    count\n",
       "sex                                                     \n",
       "female      1   3  1004        0   1  339   466      466\n",
       "male        1   3  2000        0   1  161   843      843"
      ]
     },
     "execution_count": 75,
     "metadata": {},
     "output_type": "execute_result"
    }
   ],
   "source": [
    "titanic.groupby(\"sex\")[[\"pclass\",\"survived\",\"age\",\"embarked\"]].agg({\"pclass\":[\"min\",\"max\",\"sum\"],\"survived\":[\"min\",\"max\",\"sum\"],\n",
    "                                                                   \"age\":[\"count\"],\"embarked\":[\"count\"]})"
   ]
  },
  {
   "cell_type": "code",
   "execution_count": 77,
   "id": "22710540",
   "metadata": {},
   "outputs": [
    {
     "data": {
      "text/plain": [
       "<AxesSubplot:xlabel='sex'>"
      ]
     },
     "execution_count": 77,
     "metadata": {},
     "output_type": "execute_result"
    },
    {
     "data": {
      "image/png": "[encoded data removed]",
      "text/plain": [
       "<Figure size 432x288 with 1 Axes>"
      ]
     },
     "metadata": {
      "needs_background": "light"
     },
     "output_type": "display_data"
    }
   ],
   "source": [
    "titanic.groupby(\"sex\")[[\"pclass\",\"survived\",\"age\",\"embarked\"]].agg({\"pclass\":[\"min\",\"max\",\"sum\"],\"survived\":[\"min\",\"max\",\"sum\"],\n",
    "                                                                   \"age\":[\"count\"],\"embarked\":[\"count\"]}).plot(kind=\"bar\")"
   ]
  },
  {
   "cell_type": "code",
   "execution_count": 78,
   "id": "6e6ac518",
   "metadata": {},
   "outputs": [
    {
     "data": {
      "text/plain": [
       "Index(['pclass', 'survived', 'name', 'sex', 'age', 'sibsp', 'parch', 'ticket',\n",
       "       'fare', 'cabin', 'embarked', 'boat', 'body', 'home.dest'],\n",
       "      dtype='object')"
      ]
     },
     "execution_count": 78,
     "metadata": {},
     "output_type": "execute_result"
    }
   ],
   "source": [
    "titanic.columns"
   ]
  },
  {
   "cell_type": "code",
   "execution_count": 79,
   "id": "9375e624",
   "metadata": {},
   "outputs": [
    {
     "name": "stdout",
     "output_type": "stream",
     "text": [
      "<class 'pandas.core.frame.DataFrame'>\n",
      "RangeIndex: 1309 entries, 0 to 1308\n",
      "Data columns (total 14 columns):\n",
      " #   Column     Non-Null Count  Dtype \n",
      "---  ------     --------------  ----- \n",
      " 0   pclass     1309 non-null   int64 \n",
      " 1   survived   1309 non-null   int64 \n",
      " 2   name       1309 non-null   object\n",
      " 3   sex        1309 non-null   object\n",
      " 4   age        1309 non-null   object\n",
      " 5   sibsp      1309 non-null   int64 \n",
      " 6   parch      1309 non-null   int64 \n",
      " 7   ticket     1309 non-null   object\n",
      " 8   fare       1309 non-null   object\n",
      " 9   cabin      1309 non-null   object\n",
      " 10  embarked   1309 non-null   object\n",
      " 11  boat       1309 non-null   object\n",
      " 12  body       1309 non-null   object\n",
      " 13  home.dest  1309 non-null   object\n",
      "dtypes: int64(4), object(10)\n",
      "memory usage: 143.3+ KB\n"
     ]
    }
   ],
   "source": [
    "titanic.info()"
   ]
  },
  {
   "cell_type": "code",
   "execution_count": 81,
   "id": "9498da34",
   "metadata": {},
   "outputs": [
    {
     "name": "stderr",
     "output_type": "stream",
     "text": [
      "C:\\Users\\namtu\\AppData\\Local\\Temp/ipykernel_6616/1346408186.py:1: FutureWarning: Indexing with multiple keys (implicitly converted to a tuple of keys) will be deprecated, use a list instead.\n",
      "  titanic.groupby([\"sex\",\"age\",\"embarked\"])[\"pclass\",\"survived\"].count()\n"
     ]
    },
    {
     "data": {
      "text/html": [
       "<div>\n",
       "<style scoped>\n",
       "    .dataframe tbody tr th:only-of-type {\n",
       "        vertical-align: middle;\n",
       "    }\n",
       "\n",
       "    .dataframe tbody tr th {\n",
       "        vertical-align: top;\n",
       "    }\n",
       "\n",
       "    .dataframe thead th {\n",
       "        text-align: right;\n",
       "    }\n",
       "</style>\n",
       "<table border=\"1\" class=\"dataframe\">\n",
       "  <thead>\n",
       "    <tr style=\"text-align: right;\">\n",
       "      <th></th>\n",
       "      <th></th>\n",
       "      <th></th>\n",
       "      <th>pclass</th>\n",
       "      <th>survived</th>\n",
       "    </tr>\n",
       "    <tr>\n",
       "      <th>sex</th>\n",
       "      <th>age</th>\n",
       "      <th>embarked</th>\n",
       "      <th></th>\n",
       "      <th></th>\n",
       "    </tr>\n",
       "  </thead>\n",
       "  <tbody>\n",
       "    <tr>\n",
       "      <th rowspan=\"5\" valign=\"top\">female</th>\n",
       "      <th>0.1667</th>\n",
       "      <th>S</th>\n",
       "      <td>1</td>\n",
       "      <td>1</td>\n",
       "    </tr>\n",
       "    <tr>\n",
       "      <th>0.75</th>\n",
       "      <th>C</th>\n",
       "      <td>2</td>\n",
       "      <td>2</td>\n",
       "    </tr>\n",
       "    <tr>\n",
       "      <th>0.9167</th>\n",
       "      <th>S</th>\n",
       "      <td>1</td>\n",
       "      <td>1</td>\n",
       "    </tr>\n",
       "    <tr>\n",
       "      <th rowspan=\"2\" valign=\"top\">1</th>\n",
       "      <th>C</th>\n",
       "      <td>2</td>\n",
       "      <td>2</td>\n",
       "    </tr>\n",
       "    <tr>\n",
       "      <th>S</th>\n",
       "      <td>3</td>\n",
       "      <td>3</td>\n",
       "    </tr>\n",
       "    <tr>\n",
       "      <th>...</th>\n",
       "      <th>...</th>\n",
       "      <th>...</th>\n",
       "      <td>...</td>\n",
       "      <td>...</td>\n",
       "    </tr>\n",
       "    <tr>\n",
       "      <th rowspan=\"5\" valign=\"top\">male</th>\n",
       "      <th>80</th>\n",
       "      <th>S</th>\n",
       "      <td>1</td>\n",
       "      <td>1</td>\n",
       "    </tr>\n",
       "    <tr>\n",
       "      <th>9</th>\n",
       "      <th>S</th>\n",
       "      <td>5</td>\n",
       "      <td>5</td>\n",
       "    </tr>\n",
       "    <tr>\n",
       "      <th rowspan=\"3\" valign=\"top\">?</th>\n",
       "      <th>C</th>\n",
       "      <td>43</td>\n",
       "      <td>43</td>\n",
       "    </tr>\n",
       "    <tr>\n",
       "      <th>Q</th>\n",
       "      <td>37</td>\n",
       "      <td>37</td>\n",
       "    </tr>\n",
       "    <tr>\n",
       "      <th>S</th>\n",
       "      <td>105</td>\n",
       "      <td>105</td>\n",
       "    </tr>\n",
       "  </tbody>\n",
       "</table>\n",
       "<p>303 rows × 2 columns</p>\n",
       "</div>"
      ],
      "text/plain": [
       "                        pclass  survived\n",
       "sex    age    embarked                  \n",
       "female 0.1667 S              1         1\n",
       "       0.75   C              2         2\n",
       "       0.9167 S              1         1\n",
       "       1      C              2         2\n",
       "              S              3         3\n",
       "...                        ...       ...\n",
       "male   80     S              1         1\n",
       "       9      S              5         5\n",
       "       ?      C             43        43\n",
       "              Q             37        37\n",
       "              S            105       105\n",
       "\n",
       "[303 rows x 2 columns]"
      ]
     },
     "execution_count": 81,
     "metadata": {},
     "output_type": "execute_result"
    }
   ],
   "source": [
    "titanic.groupby([\"sex\",\"age\",\"embarked\"])[\"pclass\",\"survived\"].count()"
   ]
  },
  {
   "cell_type": "code",
   "execution_count": 90,
   "id": "0d536d7b",
   "metadata": {},
   "outputs": [
    {
     "data": {
      "text/html": [
       "<div>\n",
       "<style scoped>\n",
       "    .dataframe tbody tr th:only-of-type {\n",
       "        vertical-align: middle;\n",
       "    }\n",
       "\n",
       "    .dataframe tbody tr th {\n",
       "        vertical-align: top;\n",
       "    }\n",
       "\n",
       "    .dataframe thead th {\n",
       "        text-align: right;\n",
       "    }\n",
       "</style>\n",
       "<table border=\"1\" class=\"dataframe\">\n",
       "  <thead>\n",
       "    <tr style=\"text-align: right;\">\n",
       "      <th></th>\n",
       "      <th>count</th>\n",
       "      <th>count_nulls</th>\n",
       "    </tr>\n",
       "    <tr>\n",
       "      <th>pclass</th>\n",
       "      <th></th>\n",
       "      <th></th>\n",
       "    </tr>\n",
       "  </thead>\n",
       "  <tbody>\n",
       "    <tr>\n",
       "      <th>1</th>\n",
       "      <td>323</td>\n",
       "      <td>0</td>\n",
       "    </tr>\n",
       "    <tr>\n",
       "      <th>2</th>\n",
       "      <td>277</td>\n",
       "      <td>0</td>\n",
       "    </tr>\n",
       "    <tr>\n",
       "      <th>3</th>\n",
       "      <td>709</td>\n",
       "      <td>0</td>\n",
       "    </tr>\n",
       "  </tbody>\n",
       "</table>\n",
       "</div>"
      ],
      "text/plain": [
       "        count  count_nulls\n",
       "pclass                    \n",
       "1         323            0\n",
       "2         277            0\n",
       "3         709            0"
      ]
     },
     "execution_count": 90,
     "metadata": {},
     "output_type": "execute_result"
    }
   ],
   "source": [
    "def count_nulls(s):\n",
    "    return s.size-s.count()\n",
    "\n",
    "titanic.groupby(\"pclass\")[\"age\"].agg([\"count\",count_nulls])"
   ]
  },
  {
   "cell_type": "code",
   "execution_count": 88,
   "id": "219d521b",
   "metadata": {},
   "outputs": [
    {
     "data": {
      "text/html": [
       "<div>\n",
       "<style scoped>\n",
       "    .dataframe tbody tr th:only-of-type {\n",
       "        vertical-align: middle;\n",
       "    }\n",
       "\n",
       "    .dataframe tbody tr th {\n",
       "        vertical-align: top;\n",
       "    }\n",
       "\n",
       "    .dataframe thead tr th {\n",
       "        text-align: left;\n",
       "    }\n",
       "\n",
       "    .dataframe thead tr:last-of-type th {\n",
       "        text-align: right;\n",
       "    }\n",
       "</style>\n",
       "<table border=\"1\" class=\"dataframe\">\n",
       "  <thead>\n",
       "    <tr>\n",
       "      <th></th>\n",
       "      <th colspan=\"3\" halign=\"left\">Open</th>\n",
       "    </tr>\n",
       "    <tr>\n",
       "      <th></th>\n",
       "      <th>min</th>\n",
       "      <th>max</th>\n",
       "      <th>&lt;lambda_0&gt;</th>\n",
       "    </tr>\n",
       "    <tr>\n",
       "      <th>Symbol</th>\n",
       "      <th></th>\n",
       "      <th></th>\n",
       "      <th></th>\n",
       "    </tr>\n",
       "  </thead>\n",
       "  <tbody>\n",
       "    <tr>\n",
       "      <th>GM</th>\n",
       "      <td>57.849998</td>\n",
       "      <td>64.330002</td>\n",
       "      <td>6.480004</td>\n",
       "    </tr>\n",
       "    <tr>\n",
       "      <th>LCID</th>\n",
       "      <td>42.299999</td>\n",
       "      <td>56.200001</td>\n",
       "      <td>13.900002</td>\n",
       "    </tr>\n",
       "    <tr>\n",
       "      <th>RIVN</th>\n",
       "      <td>106.750000</td>\n",
       "      <td>163.800003</td>\n",
       "      <td>57.050003</td>\n",
       "    </tr>\n",
       "  </tbody>\n",
       "</table>\n",
       "</div>"
      ],
      "text/plain": [
       "              Open                       \n",
       "               min         max <lambda_0>\n",
       "Symbol                                   \n",
       "GM       57.849998   64.330002   6.480004\n",
       "LCID     42.299999   56.200001  13.900002\n",
       "RIVN    106.750000  163.800003  57.050003"
      ]
     },
     "execution_count": 88,
     "metadata": {},
     "output_type": "execute_result"
    }
   ],
   "source": [
    "car.groupby(\"Symbol\").agg({\"Open\":[\"min\",\"max\", lambda x:x.max()-x.min()]})"
   ]
  },
  {
   "cell_type": "code",
   "execution_count": 95,
   "id": "82a9ec62",
   "metadata": {},
   "outputs": [
    {
     "data": {
      "text/html": [
       "<div>\n",
       "<style scoped>\n",
       "    .dataframe tbody tr th:only-of-type {\n",
       "        vertical-align: middle;\n",
       "    }\n",
       "\n",
       "    .dataframe tbody tr th {\n",
       "        vertical-align: top;\n",
       "    }\n",
       "\n",
       "    .dataframe thead th {\n",
       "        text-align: right;\n",
       "    }\n",
       "</style>\n",
       "<table border=\"1\" class=\"dataframe\">\n",
       "  <thead>\n",
       "    <tr style=\"text-align: right;\">\n",
       "      <th></th>\n",
       "      <th>max_open</th>\n",
       "      <th>min_close</th>\n",
       "      <th>diff_close</th>\n",
       "    </tr>\n",
       "    <tr>\n",
       "      <th>Symbol</th>\n",
       "      <th></th>\n",
       "      <th></th>\n",
       "      <th></th>\n",
       "    </tr>\n",
       "  </thead>\n",
       "  <tbody>\n",
       "    <tr>\n",
       "      <th>GM</th>\n",
       "      <td>64.610001</td>\n",
       "      <td>59.270000</td>\n",
       "      <td>5.340001</td>\n",
       "    </tr>\n",
       "    <tr>\n",
       "      <th>LCID</th>\n",
       "      <td>55.520000</td>\n",
       "      <td>40.750000</td>\n",
       "      <td>14.770000</td>\n",
       "    </tr>\n",
       "    <tr>\n",
       "      <th>RIVN</th>\n",
       "      <td>172.009995</td>\n",
       "      <td>100.730003</td>\n",
       "      <td>71.279992</td>\n",
       "    </tr>\n",
       "  </tbody>\n",
       "</table>\n",
       "</div>"
      ],
      "text/plain": [
       "          max_open   min_close  diff_close\n",
       "Symbol                                    \n",
       "GM       64.610001   59.270000    5.340001\n",
       "LCID     55.520000   40.750000   14.770000\n",
       "RIVN    172.009995  100.730003   71.279992"
      ]
     },
     "execution_count": 95,
     "metadata": {},
     "output_type": "execute_result"
    }
   ],
   "source": [
    "car.groupby(\"Symbol\").agg(\n",
    "    max_open = (\"Close\",\"max\"),\n",
    "    min_close = (\"Close\",\"min\"),\n",
    "    diff_close= (\"Close\",lambda x: x.max()-x.min())\n",
    ")"
   ]
  },
  {
   "cell_type": "code",
   "execution_count": null,
   "id": "63b77bc1",
   "metadata": {},
   "outputs": [],
   "source": []
  }
 ],
 "metadata": {
  "kernelspec": {
   "display_name": "Python 3 (ipykernel)",
   "language": "python",
   "name": "python3"
  },
  "language_info": {
   "codemirror_mode": {
    "name": "ipython",
    "version": 3
   },
   "file_extension": ".py",
   "mimetype": "text/x-python",
   "name": "python",
   "nbconvert_exporter": "python",
   "pygments_lexer": "ipython3",
   "version": "3.8.11"
  }
 },
 "nbformat": 4,
 "nbformat_minor": 5
}
