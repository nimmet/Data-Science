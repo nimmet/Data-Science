{
 "cells": [
  {
   "cell_type": "code",
   "execution_count": 1,
   "id": "c9ced4ad",
   "metadata": {},
   "outputs": [],
   "source": [
    "import pandas as pd\n",
    "import matplotlib.pyplot as plt\n",
    "house = pd.read_csv(\"C:/Data_Science/Python_Data_Analyse_Visualization/data/kc_house_data.csv\")\n",
    "titanic = pd.read_csv(\"C:/Data_Science/Python_Data_Analyse_Visualization/data/titanic.csv\")\n",
    "netflix  = pd.read_csv(\"C:/Data_Science/Python_Data_Analyse_Visualization/data/netflix_titles.csv\",sep=\"|\", index_col=0)\n",
    "btc = pd.read_csv(\"C:/Data_Science/Python_Data_Analyse_Visualization/data/coin_Bitcoin.csv\")\n",
    "countries = pd.read_csv(\"C:/Data_Science/Python_Data_Analyse_Visualization/data/world-happiness-report-2021.csv\", index_col=0)"
   ]
  },
  {
   "cell_type": "code",
   "execution_count": null,
   "id": "7b2fec56",
   "metadata": {},
   "outputs": [],
   "source": []
  }
 ],
 "metadata": {
  "kernelspec": {
   "display_name": "Python 3 (ipykernel)",
   "language": "python",
   "name": "python3"
  },
  "language_info": {
   "codemirror_mode": {
    "name": "ipython",
    "version": 3
   },
   "file_extension": ".py",
   "mimetype": "text/x-python",
   "name": "python",
   "nbconvert_exporter": "python",
   "pygments_lexer": "ipython3",
   "version": "3.8.11"
  }
 },
 "nbformat": 4,
 "nbformat_minor": 5
}
